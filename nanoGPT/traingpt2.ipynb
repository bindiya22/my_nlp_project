{
 "cells": [
  {
   "cell_type": "code",
   "execution_count": null,
   "id": "415d43ce-f7e3-4234-aff8-5377f40d8a64",
   "metadata": {},
   "outputs": [],
   "source": [
    "#Import Libraries and Set Device\n",
    "import torch\n",
    "import os\n",
    "import numpy as np\n",
    "from transformers import GPT2LMHeadModel, GPT2Tokenizer, get_linear_schedule_with_warmup\n",
    "from torch.optim import AdamW  # Correct import for AdamW\n",
    "\n",
    "# Set device to CPU since you don't have a GPU\n",
    "device = 'cpu'"
   ]
  },
  {
   "cell_type": "code",
   "execution_count": null,
   "id": "27c63f3e-e2f8-4bfc-9872-18b31335e21e",
   "metadata": {},
   "outputs": [],
   "source": [
    "# Hyperparameters for CPU training\n",
    "batch_size = 8  # Reduce batch size for CPU stability\n",
    "block_size = 512  # Reduce context length for memory efficiency\n",
    "initial_learning_rate = 1e-3  # Initial learning rate\n",
    "adjusted_learning_rate = 1e-4  # Adjusted learning rate\n",
    "max_iters = 1000  # Adjust based on your needs"
   ]
  },
  {
   "cell_type": "code",
   "execution_count": null,
   "id": "b4c05302-47b9-449f-93bc-4f96c97d0afb",
   "metadata": {},
   "outputs": [],
   "source": [
    "#Load Data\n",
    "# Dataset path\n",
    "DATASET_PATH = \"C:/Users/Bindiya/Downloads/nanoGPT/data/my_dataset\"\n",
    "\n",
    "# Load data\n",
    "def load_data():\n",
    "    train_data = np.memmap(os.path.join(DATASET_PATH, 'train_new.bin'), dtype=np.uint16, mode='r')\n",
    "    val_data = np.memmap(os.path.join(DATASET_PATH, 'val_new.bin'), dtype=np.uint16, mode='r')\n",
    "    return train_data, val_data\n",
    "\n",
    "train_data, val_data = load_data()"
   ]
  }
 ],
 "metadata": {
  "kernelspec": {
   "display_name": "Python 3 (ipykernel)",
   "language": "python",
   "name": "python3"
  },
  "language_info": {
   "codemirror_mode": {
    "name": "ipython",
    "version": 3
   },
   "file_extension": ".py",
   "mimetype": "text/x-python",
   "name": "python",
   "nbconvert_exporter": "python",
   "pygments_lexer": "ipython3",
   "version": "3.12.3"
  }
 },
 "nbformat": 4,
 "nbformat_minor": 5
}
